{
 "cells": [
  {
   "cell_type": "raw",
   "metadata": {},
   "source": [
    "#    \n",
    "#    Google's TensorFlow is a versatile framework that can be used for a variety of Machine Learning problems, \n",
    "#    besides Deep-Learning. There is a lot of interest in market regarding TensorFlow, so we will demonstrate how it \n",
    "#    can be used.\n",
    "#\n",
    "#    This demo implements a classic Machine Learning technique of Text Classification with TensorFlow.\n",
    "#    It implements a technique known as \"bag of words\" which relies on presence of certain words, their frequency \n",
    "#    and their uniqueness to form the features for learning. It is a good technique to build a quick prototype.\n",
    "#\n",
    "#    The classifiers used are Gradient Boosted Classifier, Random Forest & SVM from Scikit-Learn and Multi-Layer\n",
    "#    Perceptron (MLP) neural network (a neural network with all fully-connected layers), with a single hidden layer, #    using TensorFlow.\n",
    "#\n",
    "#    The idea is to demonstrate and get our feet wet, but to not iterate extensively, run multiple experiments to get #    the most optimum production ready model.    \n",
    "#    \n",
    "#    Author: Harshal Patil\n",
    "#    "
   ]
  },
  {
   "cell_type": "code",
   "execution_count": 1,
   "metadata": {},
   "outputs": [],
   "source": [
    "#     load packages\n",
    "import os \n",
    "import zipfile\n",
    "import urllib\n",
    "import pandas as pd\n",
    "import numpy as np\n",
    "import string\n",
    "import re\n",
    "import nltk\n",
    "from sklearn.feature_extraction.text import TfidfVectorizer\n",
    "import tensorflow as tf\n",
    "import time \n",
    "from matplotlib import pyplot as plt\n",
    "from nltk.corpus import stopwords\n",
    "import pickle"
   ]
  },
  {
   "cell_type": "code",
   "execution_count": 2,
   "metadata": {},
   "outputs": [],
   "source": [
    "#    load the data\n",
    "#    The data is received from http://jmcauley.ucsd.edu/data/amazon/ \n",
    "#    You will need to contact Julian McAuley of UCSD to obtain it\n",
    "#\n",
    "#    From this dataset:\n",
    "#    I have used a preprocessing script to extract a small sample, convert to dataframe and save in pickle format. \n",
    "#\n",
    "#    That dataframe will be read from the pickle file into this notebook.\n",
    "\n",
    "pname=\"amazon_reviews_limited.pickle\"\n",
    "#fname = os.path.join(os.getcwd(),pname)\n",
    "df = pd.read_pickle(pname)"
   ]
  },
  {
   "cell_type": "code",
   "execution_count": 7,
   "metadata": {},
   "outputs": [
    {
     "data": {
      "text/html": [
       "<div>\n",
       "<style scoped>\n",
       "    .dataframe tbody tr th:only-of-type {\n",
       "        vertical-align: middle;\n",
       "    }\n",
       "\n",
       "    .dataframe tbody tr th {\n",
       "        vertical-align: top;\n",
       "    }\n",
       "\n",
       "    .dataframe thead th {\n",
       "        text-align: right;\n",
       "    }\n",
       "</style>\n",
       "<table border=\"1\" class=\"dataframe\">\n",
       "  <thead>\n",
       "    <tr style=\"text-align: right;\">\n",
       "      <th></th>\n",
       "      <th>reviewerID</th>\n",
       "      <th>asin</th>\n",
       "      <th>reviewerName</th>\n",
       "      <th>helpful</th>\n",
       "      <th>unixReviewTime</th>\n",
       "      <th>reviewText</th>\n",
       "      <th>overall</th>\n",
       "      <th>reviewTime</th>\n",
       "      <th>summary</th>\n",
       "      <th>textvec</th>\n",
       "      <th>labelvec</th>\n",
       "    </tr>\n",
       "  </thead>\n",
       "  <tbody>\n",
       "    <tr>\n",
       "      <th>0</th>\n",
       "      <td>A00000262KYZUE4J55XGL</td>\n",
       "      <td>B003UYU16G</td>\n",
       "      <td>Steven N Elich</td>\n",
       "      <td>[0, 0]</td>\n",
       "      <td>1353456000</td>\n",
       "      <td>It is and does exactly what the description sa...</td>\n",
       "      <td>5.0</td>\n",
       "      <td>11 21, 2012</td>\n",
       "      <td>Does what it's supposed to do</td>\n",
       "      <td>Does what it's supposed to do It is and does e...</td>\n",
       "      <td>0</td>\n",
       "    </tr>\n",
       "    <tr>\n",
       "      <th>1</th>\n",
       "      <td>A000008615DZQRRI946FO</td>\n",
       "      <td>B005FYPK9C</td>\n",
       "      <td>mj waldon</td>\n",
       "      <td>[0, 0]</td>\n",
       "      <td>1357603200</td>\n",
       "      <td>I was sketchy at first about these but once yo...</td>\n",
       "      <td>5.0</td>\n",
       "      <td>01 8, 2013</td>\n",
       "      <td>great buy</td>\n",
       "      <td>great buy I was sketchy at first about these b...</td>\n",
       "      <td>0</td>\n",
       "    </tr>\n",
       "    <tr>\n",
       "      <th>2</th>\n",
       "      <td>A00000922W28P2OCH6JSE</td>\n",
       "      <td>B000VEBG9Y</td>\n",
       "      <td>Gabriel Merrill</td>\n",
       "      <td>[0, 0]</td>\n",
       "      <td>1395619200</td>\n",
       "      <td>Very mobile product. Efficient. Easy to use; h...</td>\n",
       "      <td>3.0</td>\n",
       "      <td>03 24, 2014</td>\n",
       "      <td>Great product but needs a varmint guard.</td>\n",
       "      <td>Great product but needs a varmint guard. Very ...</td>\n",
       "      <td>0</td>\n",
       "    </tr>\n",
       "    <tr>\n",
       "      <th>3</th>\n",
       "      <td>A00000922W28P2OCH6JSE</td>\n",
       "      <td>B001EJMS6K</td>\n",
       "      <td>Gabriel Merrill</td>\n",
       "      <td>[0, 0]</td>\n",
       "      <td>1395619200</td>\n",
       "      <td>Easy to use a mobile. If you're taller than 4f...</td>\n",
       "      <td>4.0</td>\n",
       "      <td>03 24, 2014</td>\n",
       "      <td>Great inexpensive product. Mounts easily and t...</td>\n",
       "      <td>Great inexpensive product. Mounts easily and t...</td>\n",
       "      <td>0</td>\n",
       "    </tr>\n",
       "    <tr>\n",
       "      <th>4</th>\n",
       "      <td>A00000922W28P2OCH6JSE</td>\n",
       "      <td>B003XJCNVO</td>\n",
       "      <td>Gabriel Merrill</td>\n",
       "      <td>[0, 0]</td>\n",
       "      <td>1395619200</td>\n",
       "      <td>Love this feeder. Heavy duty &amp; capacity. Best ...</td>\n",
       "      <td>4.0</td>\n",
       "      <td>03 24, 2014</td>\n",
       "      <td>Great feeder. Would recommend for use for thos...</td>\n",
       "      <td>Great feeder. Would recommend for use for thos...</td>\n",
       "      <td>0</td>\n",
       "    </tr>\n",
       "  </tbody>\n",
       "</table>\n",
       "</div>"
      ],
      "text/plain": [
       "              reviewerID        asin     reviewerName helpful  unixReviewTime  \\\n",
       "0  A00000262KYZUE4J55XGL  B003UYU16G   Steven N Elich  [0, 0]      1353456000   \n",
       "1  A000008615DZQRRI946FO  B005FYPK9C        mj waldon  [0, 0]      1357603200   \n",
       "2  A00000922W28P2OCH6JSE  B000VEBG9Y  Gabriel Merrill  [0, 0]      1395619200   \n",
       "3  A00000922W28P2OCH6JSE  B001EJMS6K  Gabriel Merrill  [0, 0]      1395619200   \n",
       "4  A00000922W28P2OCH6JSE  B003XJCNVO  Gabriel Merrill  [0, 0]      1395619200   \n",
       "\n",
       "                                          reviewText  overall   reviewTime  \\\n",
       "0  It is and does exactly what the description sa...      5.0  11 21, 2012   \n",
       "1  I was sketchy at first about these but once yo...      5.0   01 8, 2013   \n",
       "2  Very mobile product. Efficient. Easy to use; h...      3.0  03 24, 2014   \n",
       "3  Easy to use a mobile. If you're taller than 4f...      4.0  03 24, 2014   \n",
       "4  Love this feeder. Heavy duty & capacity. Best ...      4.0  03 24, 2014   \n",
       "\n",
       "                                             summary  \\\n",
       "0                      Does what it's supposed to do   \n",
       "1                                          great buy   \n",
       "2           Great product but needs a varmint guard.   \n",
       "3  Great inexpensive product. Mounts easily and t...   \n",
       "4  Great feeder. Would recommend for use for thos...   \n",
       "\n",
       "                                             textvec  labelvec  \n",
       "0  Does what it's supposed to do It is and does e...         0  \n",
       "1  great buy I was sketchy at first about these b...         0  \n",
       "2  Great product but needs a varmint guard. Very ...         0  \n",
       "3  Great inexpensive product. Mounts easily and t...         0  \n",
       "4  Great feeder. Would recommend for use for thos...         0  "
      ]
     },
     "execution_count": 7,
     "metadata": {},
     "output_type": "execute_result"
    }
   ],
   "source": [
    "df.head()"
   ]
  },
  {
   "cell_type": "code",
   "execution_count": 3,
   "metadata": {},
   "outputs": [
    {
     "name": "stdout",
     "output_type": "stream",
     "text": [
      "No of Product Reviews, Unique Users, Unique Products, Year, Month To Year, Month\n",
      "[30000, 11306, 26935, 2012, 1, 2014, 12]\n"
     ]
    }
   ],
   "source": [
    "# understand some basic facts about data\n",
    "\n",
    "noreviews = len(df)\n",
    "users=len(df[\"reviewerID\"].unique())\n",
    "prods=len(df[\"asin\"].unique())\n",
    "df[\"datevec\"]=pd.to_datetime(df[\"reviewTime\"])\n",
    "syear = min(df[\"datevec\"].apply(lambda x: x.year))\n",
    "smth = min(df[\"datevec\"].apply(lambda x: x.month))\n",
    "eyear = max(df[\"datevec\"].apply(lambda x: x.year))\n",
    "emth = max(df[\"datevec\"].apply(lambda x: x.month))\n",
    "\n",
    "print \"No of Product Reviews, Unique Users, Unique Products, Year, Month To Year, Month\"\n",
    "print [noreviews, users, prods, syear, smth, eyear, emth]"
   ]
  },
  {
   "cell_type": "code",
   "execution_count": 4,
   "metadata": {},
   "outputs": [
    {
     "name": "stdout",
     "output_type": "stream",
     "text": [
      "1. check counts and percentages \n",
      "\n",
      "overall    1.0   2.0   3.0   4.0    5.0    All\n",
      "labelvec                                      \n",
      "0            0     0  2556  5345  18508  26409\n",
      "1         2322  1269     0     0      0   3591\n",
      "All       2322  1269  2556  5345  18508  30000\n",
      "\n",
      "\n",
      "overall    1.0   2.0   3.0        4.0        5.0     All\n",
      "labelvec                                                \n",
      "0         0.00  0.00  8.52  17.816667  61.693333   88.03\n",
      "1         7.74  4.23  0.00   0.000000   0.000000   11.97\n",
      "All       7.74  4.23  8.52  17.816667  61.693333  100.00\n",
      "\n",
      "\n"
     ]
    }
   ],
   "source": [
    "#    We are interested in predicting a negative review purely based on review headline and review text\n",
    "#    We consider any review that is a 2 star or 1 star as negative and label it as 1 \n",
    "#    Remaining all reviews are labeled as 0\n",
    "\n",
    "df[\"labelvec\"] = np.vectorize(lambda x: 1 if(x<3.0) else 0)(df[\"overall\"])\n",
    "df[\"textvec\"] = df[\"summary\"] + \" \" + df[\"reviewText\"]\n",
    " \n",
    "\n",
    "#    check proper coding of label from class\n",
    "print \"1. check counts and percentages \\n\"\n",
    "print pd.crosstab(df[\"labelvec\"],df[\"overall\"],margins=True)\n",
    "print \"\\n\"\n",
    "\n",
    "#    check balance between positive and negative cases (1 vs 0)\n",
    "#    check the percentage of positive cases \n",
    "print pd.crosstab(df[\"labelvec\"],df[\"overall\"],margins=True).apply(lambda x: (x/len(df))*100, axis=1)\n",
    "print \"\\n\""
   ]
  },
  {
   "cell_type": "code",
   "execution_count": 10,
   "metadata": {},
   "outputs": [
    {
     "data": {
      "text/plain": [
       "Index([u'reviewerID', u'asin', u'reviewerName', u'helpful', u'unixReviewTime',\n",
       "       u'reviewText', u'overall', u'reviewTime', u'summary', u'textvec',\n",
       "       u'labelvec', u'datevec'],\n",
       "      dtype='object')"
      ]
     },
     "execution_count": 10,
     "metadata": {},
     "output_type": "execute_result"
    }
   ],
   "source": [
    "df.columns"
   ]
  },
  {
   "cell_type": "code",
   "execution_count": 5,
   "metadata": {},
   "outputs": [],
   "source": [
    "#    preprocess strings to normalize and improve model performance\n",
    "#    convert to lowercase, remove punctuations, numbers and extra spaces, tabs etc.\n",
    "#    Stopwords removal at the time of Doc x Term matrix creation\n",
    "#    We save Doc x Term Matrix in pickle format for faster iterations when the data does not change \n",
    "#    Allows to try out/iterate different models quickly\n",
    "\n",
    "if not os.path.exists(\"Amazondocterm.pickle\"):\n",
    "\tt1 = time.time()\n",
    "\tmessage = np.vectorize(lambda x: x.lower())(df[\"textvec\"])\n",
    "\tmessage = np.vectorize(lambda x: re.sub(\"[\"+string.punctuation+\"]\",\" \",x))(message)\n",
    "\tmessage = np.vectorize(lambda x: re.sub(\"[0123456789]\",\" \",x))(message)\n",
    "\tmessage = np.vectorize(lambda x: \" \".join(x.split()))(message)\n",
    "\tt2 = time.time()\n",
    "\n",
    "\tprint \"\\n Text pre-processing time in seconds: \" + str(t2-t1)"
   ]
  },
  {
   "cell_type": "code",
   "execution_count": 6,
   "metadata": {},
   "outputs": [
    {
     "name": "stdout",
     "output_type": "stream",
     "text": [
      "2. Document x Term Matrix size : 30000 rows by 5000 columns \n",
      "\n"
     ]
    }
   ],
   "source": [
    "#    we will create a document x term matrix which will be passed to learner\n",
    "#    The counts will be using TF-IDF to differentiate unique terms and add higher weight to them\n",
    "#    you may need to run nltk.download()\n",
    "#    consider only the top 5000 words as features\n",
    "\n",
    "word_features = 5000\n",
    "\n",
    "if not os.path.exists(\"Amazondocterm.pickle\"):\n",
    "\tt1 = time.time()\n",
    "\ttfidfconvert = TfidfVectorizer(tokenizer=nltk.word_tokenize,stop_words=\"english\",max_features=word_features)\n",
    "\ttermdoc = tfidfconvert.fit_transform(message)\n",
    "\tt2=time.time()\n",
    "\n",
    "\tprint \"\\n Doc x Term Matrix pre-processing time in seconds: \" + str(t2-t1)\n",
    "\twith open(\"Amazondocterm.pickle\",\"wb\") as f:\n",
    "\t\tpickle.dump(termdoc,f)\n",
    "else:\n",
    "\twith open(\"Amazondocterm.pickle\",\"rb\") as f:\n",
    "\t\ttermdoc = pickle.load(f)\n",
    "\n",
    "print \"2. Document x Term Matrix size : \"+ str(termdoc.shape[0])+\" rows by \"+ str(termdoc.shape[1])+\" columns \\n\""
   ]
  },
  {
   "cell_type": "code",
   "execution_count": 7,
   "metadata": {},
   "outputs": [
    {
     "name": "stdout",
     "output_type": "stream",
     "text": [
      "4. Training Set Size : 24000\n",
      "5. Cross-Validation Set Size : 5400\n",
      "6. Test Set Size : 600\n"
     ]
    }
   ],
   "source": [
    "nrow = termdoc.shape[0]\n",
    "ncol = termdoc.shape[1]\n",
    "\n",
    "#    divide in training, cross validation and a test set \n",
    "train_set = np.random.choice(nrow,int(round(0.8*nrow)),replace=False)\n",
    "remn_data = np.delete(range(nrow),train_set)\n",
    "cv_set = np.random.choice(remn_data,int(round(0.9*remn_data.shape[0])),replace=False)\n",
    "test_set = np.setdiff1d(remn_data,cv_set)\n",
    "\n",
    "print \"4. Training Set Size : \" + str(len(train_set))\n",
    "print \"5. Cross-Validation Set Size : \" + str(len(cv_set))\n",
    "print \"6. Test Set Size : \" + str(len(test_set))\n",
    "\n",
    "# actual training and test data\n",
    "matrix_train = termdoc[train_set] \n",
    "matrix_cv = termdoc[cv_set] \n",
    "matrix_test = termdoc[test_set] \n",
    "target_train = np.transpose([df[\"labelvec\"][train_set]])\n",
    "target_cv = np.transpose([df[\"labelvec\"][cv_set]])\n",
    "target_test = np.transpose([df[\"labelvec\"][test_set]])\n"
   ]
  },
  {
   "cell_type": "code",
   "execution_count": null,
   "metadata": {},
   "outputs": [],
   "source": [
    "#### ---- Try out different models from Scikit-Learn"
   ]
  },
  {
   "cell_type": "code",
   "execution_count": 18,
   "metadata": {},
   "outputs": [],
   "source": [
    "from sklearn.ensemble import RandomForestClassifier, GradientBoostingClassifier\n",
    "from sklearn import svm\n",
    "from sklearn.metrics import precision_recall_fscore_support as score"
   ]
  },
  {
   "cell_type": "code",
   "execution_count": 19,
   "metadata": {},
   "outputs": [],
   "source": [
    "#Gradient Boosted Classifier\n",
    "gb = GradientBoostingClassifier(n_estimators=500, max_depth=11)\n",
    "\n",
    "start = time.time()\n",
    "gb_model = gb.fit(matrix_train, np.ravel(target_train))\n",
    "end = time.time()\n",
    "fit_time = (end - start)\n",
    "\n",
    "start = time.time()\n",
    "y_pred = gb_model.predict(matrix_test)\n",
    "end = time.time()\n",
    "pred_time = (end - start)\n"
   ]
  },
  {
   "cell_type": "code",
   "execution_count": 20,
   "metadata": {},
   "outputs": [
    {
     "name": "stdout",
     "output_type": "stream",
     "text": [
      " Gradient Boost Model Fit Summary : \n",
      "Fit time: 298.576 / Predict time: 0.033 ---- Precision: 0.9 / Recall: 0.554 / Accuracy: 0.945\n"
     ]
    }
   ],
   "source": [
    "print \" Gradient Boost Model Fit Summary : \"\n",
    "precision, recall, fscore, train_support = score(target_test, y_pred, pos_label=1, average='binary')\n",
    "print('Fit time: {} / Predict time: {} ---- Precision: {} / Recall: {} / Accuracy: {}'.format(\n",
    "    round(fit_time, 3), round(pred_time, 3), round(precision, 3), round(recall, 3), round((pd.DataFrame(target_test) == pd.DataFrame(y_pred)).sum()/len(y_pred), 3)))"
   ]
  },
  {
   "cell_type": "code",
   "execution_count": 21,
   "metadata": {},
   "outputs": [],
   "source": [
    "#RandomForest \n",
    "gb = RandomForestClassifier(n_estimators=500, max_depth=None, n_jobs=-1)\n",
    "\n",
    "start = time.time()\n",
    "gb_model = gb.fit(matrix_train, np.ravel(target_train))\n",
    "end = time.time()\n",
    "fit_time = (end - start)\n",
    "\n",
    "start = time.time()\n",
    "y_pred = gb_model.predict(matrix_test)\n",
    "end = time.time()\n",
    "pred_time = (end - start)\n"
   ]
  },
  {
   "cell_type": "code",
   "execution_count": 22,
   "metadata": {},
   "outputs": [
    {
     "name": "stdout",
     "output_type": "stream",
     "text": [
      " Random Forest Model Fit Summary : \n",
      "Fit time: 45.781 / Predict time: 0.441 ---- Precision: 0.903 / Recall: 0.431 / Accuracy: 0.933\n"
     ]
    }
   ],
   "source": [
    "print \" Random Forest Model Fit Summary : \"\n",
    "precision, recall, fscore, train_support = score(target_test, y_pred, pos_label=1, average='binary')\n",
    "print('Fit time: {} / Predict time: {} ---- Precision: {} / Recall: {} / Accuracy: {}'.format(\n",
    "    round(fit_time, 3), round(pred_time, 3), round(precision, 3), round(recall, 3), round((pd.DataFrame(target_test) == pd.DataFrame(y_pred)).sum()/len(y_pred), 3)))"
   ]
  },
  {
   "cell_type": "code",
   "execution_count": 23,
   "metadata": {},
   "outputs": [],
   "source": [
    "#SVM\n",
    "gb = svm.SVC(gamma='scale',class_weight = {1:2.5})\n",
    "\n",
    "start = time.time()\n",
    "gb_model = gb.fit(matrix_train, np.ravel(target_train))\n",
    "end = time.time()\n",
    "fit_time = (end - start)\n",
    "\n",
    "start = time.time()\n",
    "y_pred = gb_model.predict(matrix_test)\n",
    "end = time.time()\n",
    "pred_time = (end - start)\n"
   ]
  },
  {
   "cell_type": "code",
   "execution_count": 24,
   "metadata": {},
   "outputs": [
    {
     "name": "stdout",
     "output_type": "stream",
     "text": [
      " SVM Model Fit Summary : \n",
      "Fit time: 63.339 / Predict time: 1.232 ---- Precision: 0.909 / Recall: 0.308 / Accuracy: 0.922\n"
     ]
    }
   ],
   "source": [
    "print \" SVM Model Fit Summary : \"\n",
    "precision, recall, fscore, train_support = score(target_test, y_pred, pos_label=1, average='binary')\n",
    "print('Fit time: {} / Predict time: {} ---- Precision: {} / Recall: {} / Accuracy: {}'.format(\n",
    "    round(fit_time, 3), round(pred_time, 3), round(precision, 3), round(recall, 3), round((pd.DataFrame(target_test) == pd.DataFrame(y_pred)).sum()/len(y_pred), 3)))"
   ]
  },
  {
   "cell_type": "code",
   "execution_count": null,
   "metadata": {},
   "outputs": [],
   "source": [
    "### ---- Try the same in TensorFlow"
   ]
  },
  {
   "cell_type": "code",
   "execution_count": 15,
   "metadata": {},
   "outputs": [
    {
     "name": "stdout",
     "output_type": "stream",
     "text": [
      "\n",
      "\n",
      " Establish TensorFlow graph \n",
      "\n"
     ]
    }
   ],
   "source": [
    "print \"\\n\\n Establish TensorFlow graph \\n\"\n",
    "#    build tensorflow graph\n",
    "input_layer = word_features\n",
    "hidden_layer = 50 #no of units in hidden layer(s)\n",
    "output_layer = 1  #no of units in output layer\n",
    "\n",
    "# DEPLOYMENT CHOICE with Simple Settings\n",
    "# specify device - we will change this to GPU to deploy on specific GPU\n",
    "#with tf.device('/gpu:0'):\n",
    "#with tf.device('/cpu:0'):\n",
    "    \n",
    "with tf.name_scope('input') as scope:\n",
    "    inp = tf.placeholder(tf.float32, [None, input_layer],name=\"inp\")\n",
    "    hidden_w = tf.Variable(tf.random_normal(shape=[input_layer,hidden_layer]),name=\"hidden_w\")\n",
    "    hidden_b = tf.Variable(tf.random_normal(shape=[hidden_layer]),name=\"hidden_b\")\n",
    "    inp_model = tf.add(tf.matmul(inp,hidden_w),hidden_b)\n",
    "    \n",
    "            #init all weights to random\n",
    "with tf.name_scope('hidden') as scope:\n",
    "        #hidden_model = tf.nn.relu(inp_model)\n",
    "        #hidden_model1 = tf.sigmoid(inp_model)\n",
    "    hidden_model = tf.sigmoid(inp_model)\n",
    "#    hidden_w1 = tf.Variable(tf.random_normal(shape=[hidden_layer,hidden_layer]),name=\"hidden_w1\")\n",
    "#    hidden_b1 = tf.Variable(tf.random_normal(shape=[hidden_layer]),name=\"hidden_b1\")\n",
    "#    hidden_model = tf.add(tf.matmul(hidden_model1,hidden_w1),hidden_b1)\n",
    "    \n",
    "with tf.name_scope('output') as scope:\n",
    "    op = tf.placeholder(tf.float32, [None, output_layer],name=\"op\")\n",
    "    op_w = tf.Variable(tf.random_normal(shape=[hidden_layer,output_layer]),name=\"op_w\")\n",
    "    op_b = tf.Variable(tf.random_normal(shape=[output_layer]),name=\"op_b\")\n",
    "    op_model = tf.add(tf.matmul(hidden_model,op_w),op_b)\n",
    "    predict = tf.round(tf.sigmoid(op_model))\n",
    "    accuracy = tf.reduce_mean(tf.cast(tf.equal(predict,op), tf.float32))\n",
    "        \n",
    "with tf.name_scope('cost') as scope:\n",
    "    cost = tf.reduce_mean(tf.nn.sigmoid_cross_entropy_with_logits(logits=op_model,labels=op))\n",
    "    \n",
    "    \n",
    "optimizer = tf.train.AdamOptimizer(learning_rate=0.0025).minimize(cost)\n",
    "    #optimizer = tf.train.GradientDescentOptimizer(learning_rate=0.0025).minimize(cost)\n",
    "    "
   ]
  },
  {
   "cell_type": "code",
   "execution_count": 16,
   "metadata": {},
   "outputs": [],
   "source": [
    "init = tf.global_variables_initializer()\n",
    "\n",
    "# LOG DEVICE PLACEMENTs - show that the graph is deployed to CPU or GPU\n",
    "sess = tf.Session(config=tf.ConfigProto(log_device_placement=True))\n",
    "#sess = tf.Session()\n",
    "\n",
    "# create initialized variables\n",
    "sess.run(init)\n"
   ]
  },
  {
   "cell_type": "code",
   "execution_count": 17,
   "metadata": {},
   "outputs": [
    {
     "name": "stdout",
     "output_type": "stream",
     "text": [
      "Generation # 1. Train Loss (Validation Loss): 0.53 (0.50). Train Acc (Validation Acc): 0.88 (0.88)\n",
      "Generation # 2. Train Loss (Validation Loss): 0.51 (0.49). Train Acc (Validation Acc): 0.88 (0.88)\n",
      "Generation # 3. Train Loss (Validation Loss): 0.51 (0.48). Train Acc (Validation Acc): 0.88 (0.88)\n",
      "Generation # 4. Train Loss (Validation Loss): 0.49 (0.47). Train Acc (Validation Acc): 0.88 (0.88)\n",
      "Generation # 5. Train Loss (Validation Loss): 0.47 (0.46). Train Acc (Validation Acc): 0.88 (0.88)\n",
      "Generation # 6. Train Loss (Validation Loss): 0.46 (0.45). Train Acc (Validation Acc): 0.88 (0.88)\n",
      "Generation # 7. Train Loss (Validation Loss): 0.47 (0.44). Train Acc (Validation Acc): 0.87 (0.88)\n",
      "Generation # 8. Train Loss (Validation Loss): 0.44 (0.43). Train Acc (Validation Acc): 0.87 (0.88)\n",
      "Generation # 9. Train Loss (Validation Loss): 0.46 (0.43). Train Acc (Validation Acc): 0.87 (0.87)\n",
      "Generation # 10. Train Loss (Validation Loss): 0.43 (0.42). Train Acc (Validation Acc): 0.87 (0.87)\n",
      "Generation # 11. Train Loss (Validation Loss): 0.43 (0.42). Train Acc (Validation Acc): 0.87 (0.87)\n",
      "Generation # 21. Train Loss (Validation Loss): 0.38 (0.39). Train Acc (Validation Acc): 0.87 (0.86)\n",
      "Generation # 31. Train Loss (Validation Loss): 0.34 (0.35). Train Acc (Validation Acc): 0.88 (0.87)\n",
      "Generation # 41. Train Loss (Validation Loss): 0.31 (0.33). Train Acc (Validation Acc): 0.88 (0.88)\n",
      "Generation # 51. Train Loss (Validation Loss): 0.27 (0.31). Train Acc (Validation Acc): 0.90 (0.88)\n",
      "Generation # 61. Train Loss (Validation Loss): 0.26 (0.29). Train Acc (Validation Acc): 0.90 (0.89)\n",
      "Generation # 71. Train Loss (Validation Loss): 0.24 (0.28). Train Acc (Validation Acc): 0.90 (0.89)\n",
      "Generation # 81. Train Loss (Validation Loss): 0.22 (0.27). Train Acc (Validation Acc): 0.91 (0.89)\n",
      "Generation # 91. Train Loss (Validation Loss): 0.21 (0.26). Train Acc (Validation Acc): 0.92 (0.90)\n",
      "Generation # 101. Train Loss (Validation Loss): 0.19 (0.26). Train Acc (Validation Acc): 0.92 (0.90)\n",
      "Generation # 201. Train Loss (Validation Loss): 0.12 (0.23). Train Acc (Validation Acc): 0.96 (0.91)\n",
      "Generation # 301. Train Loss (Validation Loss): 0.09 (0.24). Train Acc (Validation Acc): 0.97 (0.91)\n",
      "\n",
      " 6. Training time in seconds (total) 592.013394833\n"
     ]
    }
   ],
   "source": [
    "#    training the model - we go through a number of random batches to train\n",
    "batch=20000\n",
    "rounds = 400\n",
    "# record at these iterations and print\n",
    "recordfreq = range(0,10,1) + range(10,100,10) + range(100,(rounds+100),100)\n",
    "printfreq = 100\n",
    "\n",
    "# test accuracy in training loop is calculated on cross-validation dataset\n",
    "# the FINAL accuracy is calculated on test dataset - that is only once - so true representation\n",
    "train_loss = []\n",
    "test_loss = []\n",
    "train_acc = []\n",
    "test_acc = []\n",
    "i_data = []\n",
    "runtime = []\n",
    "i=0\n",
    "\n",
    "time_start = time.time()\n",
    "for i in range(rounds):\n",
    "#        Train\n",
    "    rand_index = np.random.choice(matrix_train.shape[0], size=batch)\n",
    "    rand_x = matrix_train[rand_index].todense() \n",
    "    rand_y = target_train[rand_index]\n",
    "    sess.run(optimizer, feed_dict={inp: rand_x, op: rand_y})\n",
    "    \n",
    "    # Only record loss and accuracy every 100 generations\n",
    "    if (i) in recordfreq:\n",
    "        i_data.append(i+1)\n",
    "        t1 = time.time()\n",
    "        train_loss_temp = sess.run(cost, feed_dict={inp: rand_x, op: rand_y})\n",
    "        t2=time.time()\n",
    "        train_loss.append(train_loss_temp)\n",
    "        runtime.append(t2-t1)\n",
    "        \n",
    "        t1 = time.time()\n",
    "        test_loss_temp = sess.run(cost, feed_dict={inp: matrix_cv.todense(), op: target_cv})\n",
    "        t2=time.time()\n",
    "        test_loss.append(test_loss_temp)\n",
    "        runtime.append(t2-t1)\n",
    "         \n",
    "        t1 = time.time()\n",
    "        train_acc_temp = sess.run(accuracy, feed_dict={inp: rand_x, op: rand_y})\n",
    "        t2=time.time()\n",
    "        train_acc.append(train_acc_temp)\n",
    "        runtime.append(t2-t1)\n",
    "        \n",
    "        t1 = time.time()\n",
    "        test_acc_temp = sess.run(accuracy, feed_dict={inp: matrix_cv.todense(), op: target_cv})\n",
    "        t2=time.time()\n",
    "        test_acc.append(test_acc_temp)\n",
    "        runtime.append(t2-t1)\n",
    "    \n",
    "    if (i) in recordfreq:\n",
    "        acc_and_loss = [i+1, train_loss_temp, test_loss_temp, train_acc_temp, test_acc_temp]\n",
    "        acc_and_loss = [np.round(x,2) for x in acc_and_loss]\n",
    "        print('Generation # {}. Train Loss (Validation Loss): {:.2f} ({:.2f}). Train Acc (Validation Acc): {:.2f} ({:.2f})'.format(*acc_and_loss))\n",
    "\n",
    "time_end = time.time()\n",
    "print \"\\n 6. Training time in seconds (total) \" + str(time_end - time_start)\n"
   ]
  },
  {
   "cell_type": "code",
   "execution_count": 18,
   "metadata": {},
   "outputs": [],
   "source": [
    "filelist = [\"trainloss.pickle\",\"testloss.pickle\",\"trainacc.pickle\",\"testacc.pickle\",\"index.pickle\"]\n",
    "objlist = [train_loss, test_loss, train_acc, test_acc, i_data]\n",
    "\n",
    "comblist = zip(filelist, objlist)\n",
    "\n",
    "for f, o in comblist:\n",
    "    with open(f,\"wb\") as fp:\n",
    "        pickle.dump(o,fp)\n"
   ]
  },
  {
   "cell_type": "code",
   "execution_count": 2,
   "metadata": {},
   "outputs": [],
   "source": [
    "filelist = [\"trainloss.pickle\",\"testloss.pickle\",\"trainacc.pickle\",\"testacc.pickle\",\"index.pickle\"]\n",
    "objlist = []\n",
    "\n",
    "for f in filelist:\n",
    "    with open(f,\"rb\") as fp:\n",
    "        objlist.append(pickle.load(fp))\n"
   ]
  },
  {
   "cell_type": "code",
   "execution_count": 3,
   "metadata": {},
   "outputs": [
    {
     "name": "stdout",
     "output_type": "stream",
     "text": [
      "\n",
      " 8. Loss Function\n"
     ]
    },
    {
     "data": {
      "image/png": "[encoded data removed]",
      "text/plain": [
       "<Figure size 432x288 with 1 Axes>"
      ]
     },
     "metadata": {
      "needs_background": "light"
     },
     "output_type": "display_data"
    }
   ],
   "source": [
    "print \"\\n 8. Loss Function\"\n",
    "plt.plot(objlist[4],objlist[0],label=\"Training Set\")\n",
    "plt.plot(objlist[4],objlist[1],label=\"Validation Set\")\n",
    "plt.legend()\n",
    "plt.show()"
   ]
  },
  {
   "cell_type": "code",
   "execution_count": 4,
   "metadata": {},
   "outputs": [
    {
     "name": "stdout",
     "output_type": "stream",
     "text": [
      "9. Accuracy\n"
     ]
    },
    {
     "data": {
      "image/png": "[encoded data removed]",
      "text/plain": [
       "<Figure size 432x288 with 1 Axes>"
      ]
     },
     "metadata": {
      "needs_background": "light"
     },
     "output_type": "display_data"
    }
   ],
   "source": [
    "print \"9. Accuracy\"\n",
    "plt.plot(objlist[4],objlist[2],label=\"Training Set\")\n",
    "plt.plot(objlist[4],objlist[3],label=\"Validation Set\")\n",
    "plt.legend()\n",
    "plt.show()"
   ]
  },
  {
   "cell_type": "code",
   "execution_count": 19,
   "metadata": {},
   "outputs": [
    {
     "name": "stdout",
     "output_type": "stream",
     "text": [
      "10. Final Model Evaluation on Test Set\n",
      "Accuracy from TensorFlow : 0.8883333\n",
      "Precision %: 61.0\n",
      "Recall %: 50.0\n",
      "F-Score: (max is 1) 0.54954954955\n"
     ]
    }
   ],
   "source": [
    "tf.logging.set_verbosity(tf.logging.ERROR)\n",
    "print \"10. Final Model Evaluation on Test Set\"\n",
    "\n",
    "predictions  = np.vectorize(lambda x: 1 if x>0.5 else 0)(sess.run(predict, feed_dict={inp: matrix_test.todense(), op: target_test}))\n",
    "\n",
    "testdf = pd.DataFrame(predictions,columns=[\"predictions\"])\n",
    "testdf[\"target\"] = target_test\n",
    "posdf = testdf[testdf[\"target\"]==1]\n",
    "\n",
    "true_pos = float(sum(posdf[\"predictions\"]))\n",
    "tot_pred = sum(testdf[\"predictions\"])\n",
    "all_pos = len(posdf)\n",
    "\n",
    "prec = round(true_pos/tot_pred,2)\n",
    "rec = round(true_pos/all_pos,2)\n",
    "fscore = 2*((prec*rec)/(prec+rec))\n",
    "\n",
    "print \"Accuracy from TensorFlow : \" + str(sess.run(accuracy, feed_dict={inp: matrix_test.todense(), op: target_test}))\n",
    "print \"Precision %: \" + str(prec*100)\n",
    "print \"Recall %: \" + str(rec*100) \n",
    "print \"F-Score: (max is 1) \" + str(fscore)\n"
   ]
  },
  {
   "cell_type": "code",
   "execution_count": null,
   "metadata": {},
   "outputs": [],
   "source": []
  },
  {
   "cell_type": "code",
   "execution_count": null,
   "metadata": {},
   "outputs": [],
   "source": []
  }
 ],
 "metadata": {
  "kernelspec": {
   "display_name": "Python 2",
   "language": "python",
   "name": "python2"
  },
  "language_info": {
   "codemirror_mode": {
    "name": "ipython",
    "version": 2
   },
   "file_extension": ".py",
   "mimetype": "text/x-python",
   "name": "python",
   "nbconvert_exporter": "python",
   "pygments_lexer": "ipython2",
   "version": "2.7.15"
  }
 },
 "nbformat": 4,
 "nbformat_minor": 2
}
